{
 "metadata": {
  "name": "",
  "signature": "sha256:d64e8193af4b0422d7f5f6994d6637c0cb72e231d29b7c1c8811568dda092df6"
 },
 "nbformat": 3,
 "nbformat_minor": 0,
 "worksheets": [
  {
   "cells": [
    {
     "cell_type": "code",
     "collapsed": false,
     "input": [
      "import numpy as np\n",
      "import matplotlib\n",
      "import matplotlib.patches as pa\n",
      "from matplotlib.patches import Circle\n",
      "%pylab inline\n",
      "radius=1\n",
      "scale=1\n",
      "#XYZ positions in metres from design document\n",
      "sizes=6*72          #72 points per inch\n",
      "\n",
      "antsx=np.array([25.095,90.284,3.985,-21.605,-38.272,-61.595,-87.988])\n",
      "antsy=np.array([-9.095,26.380,26.893,25.494,-2.592,-79.699,75.754])\n",
      "antsz=np.array([-0.045,-0.226, 0.000, 0.019, 0.391, 0.702,0.138])\n"
     ],
     "language": "python",
     "metadata": {},
     "outputs": [
      {
       "output_type": "stream",
       "stream": "stdout",
       "text": [
        "Populating the interactive namespace from numpy and matplotlib\n"
       ]
      }
     ],
     "prompt_number": 97
    },
    {
     "cell_type": "code",
     "collapsed": false,
     "input": [
      "x = [0] + (radius*np.cos(np.linspace(0, 2*math.pi, 50))).tolist()\n",
      "y = [0] + (radius*np.sin(np.linspace(0, 2*math.pi, 50))).tolist()\n",
      "xy1 = list(zip(x,y)) #make a circle"
     ],
     "language": "python",
     "metadata": {},
     "outputs": [],
     "prompt_number": 98
    },
    {
     "cell_type": "code",
     "collapsed": false,
     "input": [
      "fig, ax = plt.subplots()\n",
      "fig.set_size_inches(13,13)\n",
      "ax.scatter( antsx,antsy, marker=(xy1,0), s=sizes, facecolor='black' ) # plot the circles of the right sizes\n",
      "plt.grid()\n",
      "plt.show()"
     ],
     "language": "python",
     "metadata": {},
     "outputs": [
      {
       "metadata": {},
       "output_type": "display_data",
       "png": "[encoded data removed]",
       "text": [
        "<matplotlib.figure.Figure at 0x42efc50>"
       ]
      }
     ],
     "prompt_number": 99
    },
    {
     "cell_type": "code",
     "collapsed": false,
     "input": [
      "print x,y\n",
      "\n"
     ],
     "language": "python",
     "metadata": {},
     "outputs": [
      {
       "output_type": "stream",
       "stream": "stdout",
       "text": [
        "[0, 1.0, 0.9917900138232462, 0.9672948630390295, 0.9269167573460217, 0.8713187041233894, 0.8014136218679567, 0.7183493500977276, 0.6234898018587336, 0.5183925683105252, 0.404783343122394, 0.28452758663103267, 0.15959989503337932, 0.03205157757165533, -0.09602302590768154, -0.22252093395631434, -0.3453650544213075, -0.4625382902408351, -0.5721166601221694, -0.6723008902613166, -0.7614459583691342, -0.8380881048918404, -0.900968867902419, -0.9490557470106686, -0.9815591569910653, -0.9979453927503363, -0.9979453927503363, -0.9815591569910654, -0.9490557470106689, -0.9009688679024191, -0.8380881048918408, -0.7614459583691346, -0.672300890261317, -0.57211666012217, -0.4625382902408353, -0.34536505442130816, -0.2225209339563146, -0.09602302590768244, 0.03205157757165486, 0.1595998950333784, 0.284527586631032, 0.40478334312239295, 0.5183925683105245, 0.6234898018587334, 0.718349350097727, 0.8014136218679565, 0.871318704123389, 0.9269167573460216, 0.9672948630390291, 0.991790013823246, 1.0] [0, 0.0, 0.127877161684506, 0.25365458390950735, 0.3752670048793741, 0.49071755200393785, 0.5981105304912159, 0.6956825506034864, 0.7818314824680298, 0.8551427630053461, 0.9144126230158124, 0.9586678530366606, 0.9871817834144502, 0.9994862162006879, 0.9953791129491982, 0.9749279121818236, 0.9384684220497604, 0.8865993063730001, 0.8201722545969561, 0.7402779970753157, 0.6482283953077888, 0.545534901210549, 0.43388373911755823, 0.3151082180236209, 0.19115862870137254, 0.06407021998071323, -0.06407021998071255, -0.19115862870137187, -0.3151082180236202, -0.433883739117558, -0.5455349012105485, -0.6482283953077882, -0.7402779970753153, -0.8201722545969556, -0.886599306373, -0.9384684220497602, -0.9749279121818236, -0.9953791129491981, -0.9994862162006879, -0.9871817834144503, -0.9586678530366608, -0.9144126230158128, -0.8551427630053464, -0.7818314824680299, -0.6956825506034869, -0.5981105304912162, -0.49071755200393863, -0.3752670048793746, -0.25365458390950835, -0.12787716168450664, -2.4492935982947064e-16]\n"
       ]
      }
     ],
     "prompt_number": 100
    },
    {
     "cell_type": "code",
     "collapsed": false,
     "input": [
      "print xy1"
     ],
     "language": "python",
     "metadata": {},
     "outputs": [
      {
       "output_type": "stream",
       "stream": "stdout",
       "text": [
        "[(0, 0), (1.0, 0.0), (0.9917900138232462, 0.127877161684506), (0.9672948630390295, 0.25365458390950735), (0.9269167573460217, 0.3752670048793741), (0.8713187041233894, 0.49071755200393785), (0.8014136218679567, 0.5981105304912159), (0.7183493500977276, 0.6956825506034864), (0.6234898018587336, 0.7818314824680298), (0.5183925683105252, 0.8551427630053461), (0.404783343122394, 0.9144126230158124), (0.28452758663103267, 0.9586678530366606), (0.15959989503337932, 0.9871817834144502), (0.03205157757165533, 0.9994862162006879), (-0.09602302590768154, 0.9953791129491982), (-0.22252093395631434, 0.9749279121818236), (-0.3453650544213075, 0.9384684220497604), (-0.4625382902408351, 0.8865993063730001), (-0.5721166601221694, 0.8201722545969561), (-0.6723008902613166, 0.7402779970753157), (-0.7614459583691342, 0.6482283953077888), (-0.8380881048918404, 0.545534901210549), (-0.900968867902419, 0.43388373911755823), (-0.9490557470106686, 0.3151082180236209), (-0.9815591569910653, 0.19115862870137254), (-0.9979453927503363, 0.06407021998071323), (-0.9979453927503363, -0.06407021998071255), (-0.9815591569910654, -0.19115862870137187), (-0.9490557470106689, -0.3151082180236202), (-0.9009688679024191, -0.433883739117558), (-0.8380881048918408, -0.5455349012105485), (-0.7614459583691346, -0.6482283953077882), (-0.672300890261317, -0.7402779970753153), (-0.57211666012217, -0.8201722545969556), (-0.4625382902408353, -0.886599306373), (-0.34536505442130816, -0.9384684220497602), (-0.2225209339563146, -0.9749279121818236), (-0.09602302590768244, -0.9953791129491981), (0.03205157757165486, -0.9994862162006879), (0.1595998950333784, -0.9871817834144503), (0.284527586631032, -0.9586678530366608), (0.40478334312239295, -0.9144126230158128), (0.5183925683105245, -0.8551427630053464), (0.6234898018587334, -0.7818314824680299), (0.718349350097727, -0.6956825506034869), (0.8014136218679565, -0.5981105304912162), (0.871318704123389, -0.49071755200393863), (0.9269167573460216, -0.3752670048793746), (0.9672948630390291, -0.25365458390950835), (0.991790013823246, -0.12787716168450664), (1.0, -2.4492935982947064e-16)]\n"
       ]
      }
     ],
     "prompt_number": 101
    },
    {
     "cell_type": "code",
     "collapsed": false,
     "input": [
      "\"\"\"\n",
      "from uvlist in Miriad\n",
      "antpos  :   2376.7       2352.9       2459.4       2488.4       2465.1\n",
      "antpos  :   2372.0       2649.3      -10376.      -10152.      -10419.\n",
      "antpos  :  -10500.      -10569.      -10689.      -10674.      -2656.5\n",
      "antpos  :  -2554.3      -2553.2      -2557.2      -2638.3      -2859.9\n",
      "antpos  :  -2413.3\n",
      "scale seems to be in nsec so multiply by 0.2998 to get metres\n",
      "\n",
      "\"\"\"\n",
      "\n",
      "import numpy as np\n",
      "%pylab inline\n",
      "\n",
      "scale= 0.2998\n",
      "x=scale*np.array([ 2376.7, 2352.9, 2459.4, 2488.4, 2465.1, 2372.0, 2649.3])\n",
      "y=scale*np.array([-10376.,-10152.,-10419.,-10500.,-10569.,-10689.,-10674. ])\n",
      "z=scale*np.array([-2656.5,-2554.3,-2553.2,-2557.2,-2638.3,-2859.9,-2413.3])\n",
      "\n",
      "print average(antsx), average(antsy), average(antsz)\n",
      "print average(z), average(y), average(z)"
     ],
     "language": "python",
     "metadata": {},
     "outputs": [
      {
       "output_type": "stream",
       "stream": "stdout",
       "text": [
        "Populating the interactive namespace from numpy and matplotlib\n",
        "-12.8708571429 9.01928571429 0.139857142857\n",
        "-780.880494286 -3142.71774286 -780.880494286\n"
       ]
      }
     ],
     "prompt_number": 102
    },
    {
     "cell_type": "code",
     "collapsed": false,
     "input": [
      "print max(x)-min(x), max(antsx)-min(antsx)\n",
      "print max(y)-min(y), max(antsy)-min(antsy)\n",
      "print max(z)-min(z), max(antsz)-min(antsz)\n"
     ],
     "language": "python",
     "metadata": {},
     "outputs": [
      {
       "output_type": "stream",
       "stream": "stdout",
       "text": [
        "88.86072 178.272\n",
        "160.9926 155.453\n",
        "133.89068 0.928\n"
       ]
      }
     ],
     "prompt_number": 103
    },
    {
     "cell_type": "code",
     "collapsed": false,
     "input": [
      "for n in range(7):\n",
      "    print \"antennna\",n+1\n",
      "    print (x[n]-average(x))**2 +(y[n]-average(y))**2 +(z[n]-average(z))**2 \n",
      "    print (antsx[n]-average(antsx))**2 +(antsy[n]-average(antsy))**2 +(antsz[n]-average(antsz))**2"
     ],
     "language": "python",
     "metadata": {},
     "outputs": [
      {
       "output_type": "stream",
       "stream": "stdout",
       "text": [
        "antennna 1\n",
        "1774.22547788\n",
        "1769.56782769\n",
        "antennna 2\n",
        "10940.5910245\n",
        "10942.4528041\n",
        "antennna 3\n",
        "607.948755646\n",
        "603.609142408\n",
        "antennna 4\n",
        "348.678224261\n",
        "347.716068694\n",
        "antennna 5\n",
        "786.312356624\n",
        "780.103087122\n",
        "antennna 6\n",
        "10254.4900699\n",
        "10245.2923218\n",
        "antennna 7\n",
        "10080.2094624\n",
        "10096.1072453\n"
       ]
      }
     ],
     "prompt_number": 104
    },
    {
     "cell_type": "code",
     "collapsed": false,
     "input": [
      "print x-average(x), antsx-average(antsx)\n",
      "print y-average(y), antsy-average(antsy)\n",
      "print z-average(z), antsz-average(antsz), "
     ],
     "language": "python",
     "metadata": {},
     "outputs": [
      {
       "output_type": "stream",
       "stream": "stdout",
       "text": [
        "[-22.56637429 -29.70161429   2.22708571  10.92128571   3.93594571\n",
        " -23.97543429  59.15910571] [  37.96585714  103.15485714   16.85585714   -8.73414286  -25.40114286\n",
        "  -48.72414286  -75.11714286]\n",
        "[ 31.99294286  99.14814286  19.10154286  -5.18225714 -25.86845714\n",
        " -61.84445714 -57.34745714] [-18.11428571  17.36071429  17.87371429  16.47471429 -11.61128571\n",
        " -88.71828571  66.73471429]\n",
        "[-15.53820571  15.10135429  15.43113429  14.23193429 -10.08184571\n",
        " -76.51752571  57.37315429] [-0.18485714 -0.36585714 -0.13985714 -0.12085714  0.25114286  0.56214286\n",
        " -0.00185714]\n"
       ]
      }
     ],
     "prompt_number": 105
    },
    {
     "cell_type": "code",
     "collapsed": false,
     "input": [
      "dx=x-average(x)\n",
      "dy=y-average(y)\n",
      "dz=z-average(z)\n",
      "print dx,dy,dz\n"
     ],
     "language": "python",
     "metadata": {},
     "outputs": [
      {
       "output_type": "stream",
       "stream": "stdout",
       "text": [
        "[-22.56637429 -29.70161429   2.22708571  10.92128571   3.93594571\n",
        " -23.97543429  59.15910571] [ 31.99294286  99.14814286  19.10154286  -5.18225714 -25.86845714\n",
        " -61.84445714 -57.34745714] [-15.53820571  15.10135429  15.43113429  14.23193429 -10.08184571\n",
        " -76.51752571  57.37315429]\n"
       ]
      }
     ],
     "prompt_number": 106
    },
    {
     "cell_type": "markdown",
     "metadata": {},
     "source": [
      "#LAT,LONG,dis to XYZ\n",
      "we can use the lat,long,elev to XYZ\n",
      "$$ X=D cos(long)cos(lat) ; \\\n",
      "  Y= -D cos(long)sin(lat) ; \\\n",
      "  Z=D sin(lat)$$\n",
      "  \n",
      "  but use **geocentric** latitude"
     ]
    },
    {
     "cell_type": "code",
     "collapsed": false,
     "input": [
      "# rough geoCENTRIC latitude for site =30.552 deg"
     ],
     "language": "python",
     "metadata": {},
     "outputs": [],
     "prompt_number": 107
    },
    {
     "cell_type": "code",
     "collapsed": false,
     "input": [
      "lat=np.radians(-30.544)\n",
      "lon=np.radians(21.444)\n",
      "#D=np.ones(7)\n",
      "for t in range(7):\n",
      "    d= np.sqrt( antsx[t]**2+ antsy[t]**2 +antsz[2]**2)\n",
      "    print d\n",
      "    p=d*np.cos(lat)\n",
      "    q=d*np.sin(lat)\n",
      "    a=q*np.sin(lon)\n",
      "    b=q*np.cos(lon)\n",
      "    print a,b,p\n"
     ],
     "language": "python",
     "metadata": {},
     "outputs": [
      {
       "output_type": "stream",
       "stream": "stdout",
       "text": [
        "26.6922844657\n",
        "-4.95925701569 -12.6259825261 22.9884402495\n",
        "94.0590508989\n",
        "-17.4755745863 -44.4918056599 81.007336569\n",
        "27.1866451406\n",
        "-5.05110609096 -12.8598249778 23.4142030144\n",
        "33.4173616702\n",
        "-6.20873367065 -15.8070780737 28.7803399907\n",
        "38.3596721571\n",
        "-7.12698358617 -18.1448894336 33.0368512483\n",
        "100.72673243\n",
        "-18.7143874895 -47.6457519101 86.7498049094\n",
        "116.105799424\n",
        "-21.5717205134 -54.9203571013 99.9948594176\n"
       ]
      }
     ],
     "prompt_number": 108
    },
    {
     "cell_type": "code",
     "collapsed": false,
     "input": [],
     "language": "python",
     "metadata": {},
     "outputs": [],
     "prompt_number": 108
    },
    {
     "cell_type": "markdown",
     "metadata": {},
     "source": [
      "#from casa\n",
      "plotant readout"
     ]
    },
    {
     "cell_type": "code",
     "collapsed": false,
     "input": [
      "east1=np.array([-3155.871,-3090.687, -3176.992,  -3202.570,-3219.234, -3242.530, -3268.972 ]) # \n",
      "north1=np.array([-1037.3109,-997.567,  -997.015, -998.592,  -1030.044,-1116.351,  -942.353])\n",
      "print len(north1),len(east1)"
     ],
     "language": "python",
     "metadata": {},
     "outputs": [
      {
       "output_type": "stream",
       "stream": "stdout",
       "text": [
        "7 7\n"
       ]
      }
     ],
     "prompt_number": 109
    },
    {
     "cell_type": "code",
     "collapsed": false,
     "input": [],
     "language": "python",
     "metadata": {},
     "outputs": [],
     "prompt_number": 109
    },
    {
     "cell_type": "code",
     "collapsed": false,
     "input": [
      "east=east1-np.average(east1) + np.average(antsx)\n",
      "north = north1 -np.average(north1) +np.average(antsy)\n",
      "print east, antsx\n",
      "print north, antsy"
     ],
     "language": "python",
     "metadata": {},
     "outputs": [
      {
       "output_type": "stream",
       "stream": "stdout",
       "text": [
        "[ 25.09471429  90.27871429   3.97371429 -21.60428571 -38.26828571\n",
        " -61.56428571 -88.00628571] [ 25.095  90.284   3.985 -21.605 -38.272 -61.595 -87.988]\n",
        "[-11.25834286  28.48555714  29.03755714  27.46055714  -3.99144286\n",
        " -90.29844286  83.69955714] [ -9.095  26.38   26.893  25.494  -2.592 -79.699  75.754]\n"
       ]
      }
     ],
     "prompt_number": 110
    },
    {
     "cell_type": "code",
     "collapsed": false,
     "input": [
      "fig, ax = plt.subplots()\n",
      "fig.set_size_inches(13,13)\n",
      "ax.scatter( east1,north1, marker=(xy1,0), s=sizes, facecolor='black' )\n",
      "plt.grid()\n",
      "plt.show()"
     ],
     "language": "python",
     "metadata": {},
     "outputs": [
      {
       "metadata": {},
       "output_type": "display_data",
       "png": "[encoded data removed]",
       "text": [
        "<matplotlib.figure.Figure at 0x4e42e10>"
       ]
      }
     ],
     "prompt_number": 111
    },
    {
     "cell_type": "code",
     "collapsed": false,
     "input": [
      "# h5 file gives\n",
      "a1=(5109920.341539857, 2003683.1873212892, -3239924.1349167014)\n",
      "a2=(5109913.1884168377, 2003750.4094218686, -3239893.4972149804)\n",
      "a3=(5109945.1253210511, 2003670.2305262566, -3239893.1546299667)\n",
      "a4=(5109953.8128489852, 2003646.1621490053, -3239894.3695480172)\n",
      "a5=(5109946.8346813107, 2003625.5179083187, -3239918.6858135192)\n",
      "a6=(5109918.9215800175, 2003589.5263011905, -3239985.1018187394)\n",
      "a7=(5110002.0587823633, 2003593.772256871, -3239851.2187908515)\n",
      "ax=np.array([a1[0],a2[0],a3[0],a4[0],a5[0],a6[0],a7[0]])\n",
      "ay=np.array([a1[1],a2[1],a3[1],a4[1],a5[1],a6[1],a7[1]])\n",
      "az=np.array([a1[2],a2[2],a3[2],a4[2],a5[2],a6[2],a7[2]])\n",
      "print ax,ay,az\n"
     ],
     "language": "python",
     "metadata": {},
     "outputs": [
      {
       "output_type": "stream",
       "stream": "stdout",
       "text": [
        "[ 5109920.34153986  5109913.18841684  5109945.12532105  5109953.81284899\n",
        "  5109946.83468131  5109918.92158002  5110002.05878236] [ 2003683.18732129  2003750.40942187  2003670.23052626  2003646.16214901\n",
        "  2003625.51790832  2003589.52630119  2003593.77225687] [-3239924.1349167  -3239893.49721498 -3239893.15462997 -3239894.36954802\n",
        " -3239918.68581352 -3239985.10181874 -3239851.21879085]\n"
       ]
      }
     ],
     "prompt_number": 112
    },
    {
     "cell_type": "code",
     "collapsed": true,
     "input": [],
     "language": "python",
     "metadata": {},
     "outputs": [],
     "prompt_number": 112
    },
    {
     "cell_type": "code",
     "collapsed": false,
     "input": [
      "r=np.sqrt(a1[0]**2+ a1[1]**2 + a1[2]**2) # earth radius"
     ],
     "language": "python",
     "metadata": {},
     "outputs": [],
     "prompt_number": 113
    },
    {
     "cell_type": "code",
     "collapsed": false,
     "input": [
      "print r*np.cos(lat)*cos(lon) ,r*np.cos(lat)*sin(lon), r*np.sin(lat)"
     ],
     "language": "python",
     "metadata": {},
     "outputs": [
      {
       "output_type": "stream",
       "stream": "stdout",
       "text": [
        "5109229.08579 2006812.54993 -3239077.36098\n"
       ]
      }
     ],
     "prompt_number": 114
    },
    {
     "cell_type": "code",
     "collapsed": false,
     "input": [
      "# AHA!!\n",
      "for n in range(7):\n",
      "    r =  np.sqrt(ax[n]**2 + ay[n]**2 + az[n]**2)\n",
      "    lo=  np.arctan2(ay[n],ax[n])\n",
      "    la=  np.arctan2( az[n], np.sqrt(ax[n]**2 +ay[n]**2))\n",
      "    print (\"Radius %10.2f m Longitude %9.5f deg Geocentric Latidude %9.5f deg\") %(r, np.degrees(lo), np.degrees(la))"
     ],
     "language": "python",
     "metadata": {},
     "outputs": [
      {
       "output_type": "stream",
       "stream": "stdout",
       "text": [
        "Radius 6373628.53 m Longitude  21.41096 deg Geocentric Latidude -30.55284 deg\n",
        "Radius 6373628.35 m Longitude  21.41164 deg Geocentric Latidude -30.55252 deg\n",
        "Radius 6373628.58 m Longitude  21.41074 deg Geocentric Latidude -30.55252 deg\n",
        "Radius 6373628.59 m Longitude  21.41047 deg Geocentric Latidude -30.55253 deg\n",
        "Radius 6373628.87 m Longitude  21.41029 deg Geocentric Latidude -30.55278 deg\n",
        "Radius 6373628.94 m Longitude  21.41005 deg Geocentric Latidude -30.55347 deg\n",
        "Radius 6373628.87 m Longitude  21.40978 deg Geocentric Latidude -30.55208 deg\n"
       ]
      }
     ],
     "prompt_number": 115
    },
    {
     "cell_type": "code",
     "collapsed": false,
     "input": [
      "# try removing the tilt and subtracting a central position\n",
      "# or should I subtract and then remove the tilt??\n",
      "# or does it matter?\n",
      "\n",
      "# Rotate x,y to local east\n",
      "x2=np.zeros(7)\n",
      "y2=np.zeros(7)\n",
      "z2=np.zeros(7)\n",
      "for n in range(7):\n",
      "    x2[n] = ax[n]*np.cos(lon) +ay[n]*np.sin(lon)\n",
      "    y2[n] = ax[n]*np.sin(lon) -ay[n]*np.cos(lon) #west\n",
      "    # now x2 is the big one so rotate to local north\n",
      "    z2[n] = x2[n]*np.cos(lat) + az[n]*np.sin(lat) # up\n",
      "    x2[n] = x2[n]*np.sin(lat) - az[n]*np.cos(lat) #south\n",
      "print x2,y2,z2\n",
      "print x2-average(x2) , y2-average(y2), z2-average(z2)"
     ],
     "language": "python",
     "metadata": {},
     "outputs": [
      {
       "output_type": "stream",
       "stream": "stdout",
       "text": [
        "[  983.71282339   948.22056553   947.71545556   949.1241684    977.20266936\n",
        "  1054.29319826   898.87346857] [ 3165.45087962  3100.26708412  3186.57148898  3212.1498288   3228.81381885\n",
        "  3252.10912158  3278.55135992] [ 6373627.66595934  6373627.5274707   6373627.70935871  6373627.71266334\n",
        "  6373627.97626303  6373628.02078101  6373627.96278654]\n",
        "[ 18.12105924 -17.37119862 -17.87630859 -16.46759575  11.61090521\n",
        "  88.70143411 -66.71829559] [ -37.96534636 -103.14914186  -16.844737      8.73360282   25.39759287\n",
        "   48.6928956    75.13513394] [-0.13050961 -0.26899825 -0.08711024 -0.08380562  0.17979408  0.22431205\n",
        "  0.16631759]\n"
       ]
      }
     ],
     "prompt_number": 116
    },
    {
     "cell_type": "code",
     "collapsed": false,
     "input": [],
     "language": "python",
     "metadata": {},
     "outputs": [],
     "prompt_number": 116
    },
    {
     "cell_type": "code",
     "collapsed": false,
     "input": [
      "x2a=  x2-average(x2)\n",
      "y2a= y2-average(y2)\n",
      "z2a= z2-average(z2)"
     ],
     "language": "python",
     "metadata": {},
     "outputs": [],
     "prompt_number": 117
    },
    {
     "cell_type": "code",
     "collapsed": false,
     "input": [
      "fig, ax = plt.subplots()\n",
      "fig.set_size_inches(13,13)\n",
      "ax.scatter( -y2,-x2, marker=(xy1,0), s=sizes, facecolor='black' )\n",
      "plt.grid()\n",
      "plt.show()"
     ],
     "language": "python",
     "metadata": {},
     "outputs": [
      {
       "metadata": {},
       "output_type": "display_data",
       "png": "[encoded data removed]",
       "text": [
        "<matplotlib.figure.Figure at 0x5382ed0>"
       ]
      }
     ],
     "prompt_number": 121
    },
    {
     "cell_type": "code",
     "collapsed": false,
     "input": [
      "\"\"\"\n",
      "ENU values in katfile\n",
      "ENU values 25.095, -9.095,  0.045\n",
      "ENU values 90.289, 26.377, -0.236\n",
      "ENU values  3.985, 26.909, -0.013\n",
      "ENU values -21.594, 25.508,  0.008\n",
      "ENU values -38.266, -2.565,  0.367\n",
      "ENU values -61.584, -79.648,  0.662\n",
      "ENU values -87.980, 75.778,  0.136\n",
      "\"\"\"\n",
      "es=np.array([25.095, 90.289,  3.985,-21.594,-38.266,-61.584,-87.980])\n",
      "ns=np.array([-9.095, 26.377, 26.909,25.508,  -2.565,-79.648,75.778 ])\n",
      "us=np.array([ 0.045, -0.236, -0.013, 0.008, 0.367, 0.662,  0.136  ])"
     ],
     "language": "python",
     "metadata": {},
     "outputs": [],
     "prompt_number": 122
    },
    {
     "cell_type": "code",
     "collapsed": false,
     "input": [
      "fig, ax = plt.subplots()\n",
      "fig.set_size_inches(13,13)\n",
      "ax.scatter(es,ns, marker=(xy1,0), s=sizes, facecolor='black' )\n",
      "plt.grid()\n",
      "plt.show()"
     ],
     "language": "python",
     "metadata": {},
     "outputs": [
      {
       "metadata": {},
       "output_type": "display_data",
       "png": "[encoded data removed]",
       "text": [
        "<matplotlib.figure.Figure at 0x5397fd0>"
       ]
      }
     ],
     "prompt_number": 123
    },
    {
     "cell_type": "code",
     "collapsed": false,
     "input": [],
     "language": "python",
     "metadata": {},
     "outputs": [],
     "prompt_number": 123
    }
   ],
   "metadata": {}
  }
 ]
}