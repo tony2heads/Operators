{
 "metadata": {
  "name": "Moon"
 }, 
 "nbformat": 2, 
 "worksheets": [
  {
   "cells": [
    {
     "cell_type": "code", 
     "collapsed": true, 
     "input": [
      "#%loadpy ../Coords/Moon.py"
     ], 
     "language": "python", 
     "outputs": [], 
     "prompt_number": 1
    }, 
    {
     "cell_type": "code", 
     "collapsed": false, 
     "input": [
      "#!/usr/bin/env python", 
      "import datetime", 
      "import ephem", 
      "", 
      "def get_phase_on_day(year,month,day):", 
      "  \"\"\"Returns a floating-point number from 0-1. where 0=new, 0.5=full, 1=new\"\"\"", 
      "  #Ephem stores its date numbers as floating points, which the following uses", 
      "  #to conveniently extract the percent time between one new moon and the next", 
      "  #This corresponds (somewhat roughly) to the phase of the moon.", 
      "", 
      "  #Use Year, Month, Day as arguments", 
      "  date=ephem.Date(datetime.date(year,month,day))", 
      "", 
      "  nnm = ephem.next_new_moon    (date)", 
      "  pnm = ephem.previous_new_moon(date)", 
      "", 
      "  lunation=(date-pnm)/(nnm-pnm)", 
      "", 
      "  #Note that there is a ephem.Moon().phase() command, but this returns the", 
      "  #percentage of the moon which is illuminated. This is not really what we want.", 
      "", 
      "  return lunation", 
      "", 
      "def get_moons_in_year(year):", 
      "  \"\"\"Returns a list of the full and new moons in a year. The list contains tuples", 
      "of either the form (DATE,'full') or the form (DATE,'new')\"\"\"", 
      "  moons=[]", 
      "", 
      "  date=ephem.Date(datetime.date(year,01,01))", 
      "  while date.datetime().year==year:", 
      "    date=ephem.next_full_moon(date)", 
      "    moons.append( (date,'full') )", 
      "", 
      "  date=ephem.Date(datetime.date(year,01,01))", 
      "  while date.datetime().year==year:", 
      "    date=ephem.next_new_moon(date)", 
      "    moons.append( (date,'new') )", 
      "", 
      "  #Note that previous_first_quarter_moon() and previous_last_quarter_moon()", 
      "  #are also methods", 
      "", 
      "  moons.sort(key=lambda x: x[0])", 
      "", 
      "  return moons", 
      "", 
      "print get_phase_on_day(2014,1,1)", 
      "", 
      "print get_moons_in_year(2014)"
     ], 
     "language": "python", 
     "outputs": [
      {
       "output_type": "stream", 
       "stream": "stdout", 
       "text": [
        "0.984104013029", 
        "[(41638.9681787257, 'new'), (41653.70289709143, 'full'), (41668.401760156106, 'new'), (41683.49514407875, 'full'), (41697.83309423329, 'new'), (41713.21411895485, 'full'), (41727.28102330317, 'new'), (41742.82104057959, 'full'), (41756.75995955952, 'new'), (41772.30271483902, 'full'), (41786.2779268217, 'new'), (41801.674637986776, 'full'), (41815.83920153995, 'new'), (41830.975618646626, 'full'), (41845.44565071187, 'new'), (41860.25648941735, 'full'), (41875.09218193266, 'new'), (41889.56816773608, 'full'), (41904.759555243225, 'new'), (41918.95180237007, 'full'), (41934.41435063413, 'new'), (41948.43252385644, 'full'), (41964.02241294349, 'new'), (41978.018583228135, 'full'), (41993.566567614296, 'new'), (42007.70365853841, 'full'), (42023.051178008034, 'new')]"
       ]
      }
     ], 
     "prompt_number": 2
    }, 
    {
     "cell_type": "code", 
     "collapsed": true, 
     "input": [], 
     "language": "python", 
     "outputs": []
    }
   ]
  }
 ]
}