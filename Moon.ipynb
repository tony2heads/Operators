{
 "cells": [
  {
   "cell_type": "code",
   "execution_count": 1,
   "metadata": {},
   "outputs": [],
   "source": [
    "#%loadpy ../Coords/Moon.py"
   ]
  },
  {
   "cell_type": "code",
   "execution_count": 3,
   "metadata": {},
   "outputs": [
    {
     "name": "stdout",
     "output_type": "stream",
     "text": [
      "0.194786063523\n",
      "[(43839.306451339726, 'full'), (43853.40415503644, 'new'), (43868.81476561405, 'full'), (43883.14721782898, 'new'), (43898.24146822083, 'full'), (43912.894574090824, 'new'), (43927.6076765658, 'full'), (43942.60126414058, 'new'), (43956.948048116195, 'full'), (43972.23529164779, 'new'), (43986.30024236918, 'full'), (44001.778759338136, 'new'), (44015.69747711665, 'full'), (44031.23118831613, 'new'), (44045.16577882512, 'full'), (44060.612237387264, 'new'), (44074.72363210375, 'full'), (44089.958450358026, 'new'), (44104.3786267061, 'full'), (44119.31320166921, 'new'), (44134.11744424832, 'full'), (44148.7132994516, 'new'), (44163.89559663185, 'full'), (44178.17816068111, 'new'), (44193.644573014164, 'full'), (44207.70843575022, 'new'), (44223.3029166971, 'full')]\n"
     ]
    }
   ],
   "source": [
    "#!/usr/bin/env python\n",
    "import datetime\n",
    "import ephem\n",
    "\n",
    "def get_phase_on_day(year,month,day):\n",
    "  \"\"\"Returns a floating-point number from 0-1. where 0=new, 0.5=full, 1=new\"\"\"\n",
    "  #Ephem stores its date numbers as floating points, which the following uses\n",
    "  #to conveniently extract the percent time between one new moon and the next\n",
    "  #This corresponds (somewhat roughly) to the phase of the moon.\n",
    "\n",
    "  #Use Year, Month, Day as arguments\n",
    "  date=ephem.Date(datetime.date(year,month,day))\n",
    "\n",
    "  nnm = ephem.next_new_moon    (date)\n",
    "  pnm = ephem.previous_new_moon(date)\n",
    "\n",
    "  lunation=(date-pnm)/(nnm-pnm)\n",
    "\n",
    "  #Note that there is a ephem.Moon().phase() command, but this returns the\n",
    "  #percentage of the moon which is illuminated. This is not really what we want.\n",
    "\n",
    "  return lunation\n",
    "\n",
    "def get_moons_in_year(year):\n",
    "  \"\"\"Returns a list of the full and new moons in a year. The list contains tuples\n",
    "of either the form (DATE,'full') or the form (DATE,'new')\"\"\"\n",
    "  moons=[]\n",
    "\n",
    "  date=ephem.Date(datetime.date(year,01,01))\n",
    "  while date.datetime().year==year:\n",
    "    date=ephem.next_full_moon(date)\n",
    "    moons.append( (date,'full') )\n",
    "\n",
    "  date=ephem.Date(datetime.date(year,01,01))\n",
    "  while date.datetime().year==year:\n",
    "    date=ephem.next_new_moon(date)\n",
    "    moons.append( (date,'new') )\n",
    "\n",
    "  #Note that previous_first_quarter_moon() and previous_last_quarter_moon()\n",
    "  #are also methods\n",
    "\n",
    "  moons.sort(key=lambda x: x[0])\n",
    "\n",
    "  return moons\n",
    "\n",
    "print get_phase_on_day(2020,1,1)\n",
    "\n",
    "print get_moons_in_year(2020)"
   ]
  },
  {
   "cell_type": "code",
   "execution_count": null,
   "metadata": {},
   "outputs": [],
   "source": []
  }
 ],
 "metadata": {
  "kernelspec": {
   "display_name": "Python 2",
   "language": "python",
   "name": "python2"
  },
  "language_info": {
   "codemirror_mode": {
    "name": "ipython",
    "version": 2
   },
   "file_extension": ".py",
   "mimetype": "text/x-python",
   "name": "python",
   "nbconvert_exporter": "python",
   "pygments_lexer": "ipython2",
   "version": "2.7.17"
  }
 },
 "nbformat": 4,
 "nbformat_minor": 1
}
