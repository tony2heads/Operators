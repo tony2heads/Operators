{
 "metadata": {
  "name": "",
  "signature": "sha256:1bf803b0c083297e7951c5ca402d5df46a7445aa9a46fa15e4b91c5aaae44493"
 },
 "nbformat": 3,
 "nbformat_minor": 0,
 "worksheets": [
  {
   "cells": [
    {
     "cell_type": "code",
     "collapsed": true,
     "input": [
      "\"\"\"\n",
      "stuff you will find useful dealing with antennas\n",
      "\"\"\"\n",
      "\n",
      "from math import *\n",
      "# some constants\n",
      "c=2.998e8 # velocity of light in m/s\n",
      "k=1.38e-23 # Boltzmann constant in J/K\n",
      "Jy=1e-26 #W/m**2/Hz\n",
      "\n",
      "def dB(G):\n",
      "    # give a gain and return decibel version\n",
      "    B=log10(G)\n",
      "    db=10*B\n",
      "    return(db)\n",
      "\n",
      "def S(T,freq,omega):\n",
      "    # give a flux density from source brightness temp, frequency and solid angle\n",
      "    B=2*kT*freq**2/c**2 # \n",
      "    s=B*omega # still in MKS units W/m**2/Hz\n",
      "    return(s)\n",
      "    \n",
      "    \n"
     ],
     "language": "python",
     "metadata": {},
     "outputs": [],
     "prompt_number": 11
    },
    {
     "cell_type": "markdown",
     "metadata": {},
     "source": [
      "$$ \\lambda  = \\frac{c}{\\nu} \\\\\n",
      "\\theta = \\frac{\\lambda}{D} \\\\\n",
      "A= \\pi \\frac{D^2}{4}  $$"
     ]
    },
    {
     "cell_type": "code",
     "collapsed": false,
     "input": [
      "%%latex\n",
      "\\begin{aligned}\n",
      "\\lambda = \\frac{c}{\\nu} \\\\\n",
      "\\theta = \\frac{\\lambda}{D} \\\\\n",
      "A_{geom} = \\pi\\frac{D^2}{4} \\\\\n",
      "\\end{aligned}"
     ],
     "language": "python",
     "metadata": {},
     "outputs": [
      {
       "latex": [
        "\\begin{aligned}\n",
        "\\lambda = \\frac{c}{\\nu} \\\\\n",
        "\\theta = \\frac{\\lambda}{D} \\\\\n",
        "A_{geom} = \\pi\\frac{D^2}{4} \\\\\n",
        "\\end{aligned}"
       ],
       "metadata": {},
       "output_type": "display_data",
       "text": [
        "<IPython.core.display.Latex at 0x28bd250>"
       ]
      }
     ],
     "prompt_number": 12
    },
    {
     "cell_type": "code",
     "collapsed": false,
     "input": [
      "from IPython.display import Math\n",
      "Math(r'\\lambda = \\frac{c}{\\nu} \\\\ \\theta = \\frac{\\lambda}{D} \\\\ A_{geom}  = \\pi \\frac{D^2}{4}')"
     ],
     "language": "python",
     "metadata": {},
     "outputs": [
      {
       "latex": [
        "$$\\lambda = \\frac{c}{\\nu} \\\\ \\theta = \\frac{\\lambda}{D} \\\\ A_{geom}  = \\pi \\frac{D^2}{4}$$"
       ],
       "metadata": {},
       "output_type": "pyout",
       "prompt_number": 1,
       "text": [
        "<IPython.core.display.Math at 0x3341b90>"
       ]
      }
     ],
     "prompt_number": 1
    },
    {
     "cell_type": "code",
     "collapsed": false,
     "input": [
      "#Observe a source at 1.8GHz with a 12m dish\n",
      "freq=1.88e9  # Hz\n",
      "diameter=12.0 # m\n",
      "area=pi*diameter**2/4.0 #m**2\n",
      "wavel=c/freq        # in m\n",
      "HPBW=wavel/diameter # in radians\n",
      "print degrees(HPBW),\"degrees\"\n",
      "print \"Area\", area,\"m^2   diam\", diameter, 'm   wavelength',wavel,'m   HPBW',degrees(HPBW),\"Degrees\""
     ],
     "language": "python",
     "metadata": {},
     "outputs": [
      {
       "output_type": "stream",
       "stream": "stdout",
       "text": [
        "0.761404020302 degrees\n",
        "Area 113.097335529 m^2   diam 12.0 m   wavelength 0.159468085106 m   HPBW 0.761404020302 Degrees\n"
       ]
      }
     ],
     "prompt_number": 14
    },
    {
     "cell_type": "code",
     "collapsed": false,
     "input": [
      "#actual efficiency about 70% - mostly taper\n",
      "Ae=area*0.7 #m**2\n",
      "omega_a=wavel**2/Ae\n",
      "gain=4*pi/omega_a # Gain along pointing axis\n",
      "hpbw=sqrt(omega_a*4/pi)\n",
      "print omega_a,gain,Ae,hpbw\n",
      "print degrees(hpbw)"
     ],
     "language": "python",
     "metadata": {},
     "outputs": [
      {
       "output_type": "stream",
       "stream": "stdout",
       "text": [
        "0.000321215981772 39121.2496496 79.1681348705 0.0202233748517\n",
        "1.15871402651\n"
       ]
      }
     ],
     "prompt_number": 15
    },
    {
     "cell_type": "code",
     "collapsed": true,
     "input": [
      "#Note that reducing efficiency WIDENS beam "
     ],
     "language": "python",
     "metadata": {},
     "outputs": [],
     "prompt_number": 16
    },
    {
     "cell_type": "code",
     "collapsed": false,
     "input": [
      "\"\"\"\n",
      "We can also express antenna gain in K/Jy\n",
      "from How many K we would get for a 1Jy in front of it\n",
      "\"\"\"\n",
      "KperJy=Ae*1*Jy/(2*k)\n",
      "print \"Kelvin per Jansky\", KperJy\n",
      "print \"Jansky per Kelvin\", 1.0/KperJy"
     ],
     "language": "python",
     "metadata": {},
     "outputs": [
      {
       "output_type": "stream",
       "stream": "stdout",
       "text": [
        "Kelvin per Jansky 0.0286841068371\n",
        "Jansky per Kelvin 34.8625113439\n"
       ]
      }
     ],
     "prompt_number": 17
    },
    {
     "cell_type": "code",
     "collapsed": false,
     "input": [
      "\"\"\"\n",
      "Other measurements of sensitivity need system temperature measurements\n",
      "\"\"\"\n",
      "Tsys=15   #K\n",
      "SEFD = Tsys/KperJy  # System Equivalent Flux Density\n",
      "# This represents how many Jy to equal system temperature\n",
      "print \"Ae/Tsys\",Ae/Tsys,\"m**2/K    SEFD\",SEFD,\"Jy\""
     ],
     "language": "python",
     "metadata": {},
     "outputs": [
      {
       "output_type": "stream",
       "stream": "stdout",
       "text": [
        "Ae/Tsys 5.27787565803 m**2/K    SEFD 6677.41935484 Jy\n"
       ]
      }
     ],
     "prompt_number": 31
    },
    {
     "cell_type": "heading",
     "level": 1,
     "metadata": {},
     "source": [
      "From EMSS"
     ]
    },
    {
     "cell_type": "markdown",
     "metadata": {},
     "source": [
      "#Some estimates from Isak#\n",
      "<img src=\"files/plot.jpg\">\n",
      "\n",
      "\n",
      "<table> \n",
      "<tr> <th>Subsystem</th> <th>900MHz</th> <th>1600MHz</th> </tr>\n",
      "<tr> <td>Sky (zenith pointing) </td> <td> 6.6K</td> <td> 4.9K</td><tr> \n",
      "<tr> <td>Dish (transmission for a panelled dish)  </td> <td> 1.0K</td> <td> 1.0K</td><tr> \n",
      "<tr> <td>Receiver </td> <td> 7.2K</td> <td> 8.2K</td><tr> \n",
      "<tr> <td>Digitizer </td> <td> 0.5K</td> <td> 0.5K</td><tr> \n",
      "<tr> <td>TReceiver + TSky + TDigitiser </td> <td> 15.3K</td> <td> 14.6K</td><tr> \n",
      "\n",
      "</table>"
     ]
    },
    {
     "cell_type": "code",
     "collapsed": false,
     "input": [],
     "language": "python",
     "metadata": {},
     "outputs": []
    },
    {
     "cell_type": "code",
     "collapsed": false,
     "input": [
      "narray=64\n",
      "\n",
      "\"\"\"\n",
      "900MHz\n",
      "\"\"\"\n",
      "AoverT=5.2\n",
      "T=15.3\n",
      "A=AoverT*T\n",
      "print \"At 900MHz Area =\",A,\"  Array area= \",A*narray\n",
      "KperJy=A*1*Jy/(2*k)\n",
      "print \"Kelvin per Jansky=\", KperJy,\"  Array has \",KperJy*narray\n",
      "print \"Jansky per Kelvin=\", 1.0/KperJy\n",
      "print \"array SEFD \",T/(narray*KperJy), \"Jy\"\n",
      "print \"A_e/Tsys for array\",AoverT*narray\n",
      "print \"-----------------\"\n",
      "\n",
      "\n",
      "\"\"\"\n",
      "1600MHz\n",
      "\"\"\"\n",
      "AoverT=6.2\n",
      "T=14.6\n",
      "A=AoverT*T\n",
      "print \"At 1600MHz Area =\",A,\"  Array area=\",A*narray\n",
      "KperJy=A*1*Jy/(2*k)\n",
      "print \"Kelvin per Jansky=\", KperJy,\"  Array has \",KperJy*narray\n",
      "print \"Jansky per Kelvin=\", 1.0/KperJy\n",
      "print \"array SEFD \",T/(narray*KperJy), \"Jy\"\n",
      "print \"A_e/Tsys for array\",AoverT*narray\n",
      "print \"=================\"\n",
      "\n",
      "\"\"\"\n",
      "General\n",
      "\"\"\"\n",
      "d=13.5 # assumed\n",
      "r=d/2.0\n",
      "pi=3.1415962\n",
      "print \"geometric for \",d,\"m diameter is\", pi*r*r\n"
     ],
     "language": "python",
     "metadata": {},
     "outputs": [
      {
       "output_type": "stream",
       "stream": "stdout",
       "text": [
        "At 900MHz Area = 79.56   Array area=  5091.84\n",
        "Kelvin per Jansky= 0.0288260869565   Array has  1.84486956522\n",
        "Jansky per Kelvin= 34.6907993967\n",
        "array SEFD  8.29326923077 Jy\n",
        "A_e/Tsys for array 332.8\n",
        "-----------------\n",
        "At 1600MHz Area = 90.52   Array area= 5793.28\n",
        "Kelvin per Jansky= 0.0327971014493   Array has  2.09901449275\n",
        "Jansky per Kelvin= 30.4904993372\n",
        "array SEFD  6.95564516129 Jy\n",
        "A_e/Tsys for array 396.8\n",
        "=================\n",
        "geometric for  13.5 m diameter is 143.138976862\n"
       ]
      }
     ],
     "prompt_number": 35
    },
    {
     "cell_type": "code",
     "collapsed": false,
     "input": [
      "Awsrt=14*0.6*12.5*12.5*pi # effective area of 14 25m dishes at 60%efficiency\n",
      "print \"Kelvin per Jy for WSRT\",Awsrt*Jy/(2*k) # should be about 1.4\n",
      "T=30 #K\n",
      "\n",
      "Avla=27*0.6*12.5*12.5*pi # effective area of 27 25m dishes at 60%efficiency\n",
      "print \"Kelvin per Jy for VLA\",Avla*Jy/(2*k) # should be about 2.7\n",
      "T=30 #K at Lband\n",
      "AoverT = Avla/T\n",
      "print \"A_e/Tsys for VLA\", AoverT"
     ],
     "language": "python",
     "metadata": {},
     "outputs": [
      {
       "output_type": "stream",
       "stream": "stdout",
       "text": [
        "Kelvin per Jy for WSRT 1.49396558424\n",
        "Kelvin per Jy for VLA 2.88121934103\n",
        "A_e/Tsys for VLA 265.072179375\n"
       ]
      }
     ],
     "prompt_number": 39
    },
    {
     "cell_type": "code",
     "collapsed": false,
     "input": [],
     "language": "python",
     "metadata": {},
     "outputs": [],
     "prompt_number": 19
    },
    {
     "cell_type": "code",
     "collapsed": false,
     "input": [],
     "language": "python",
     "metadata": {},
     "outputs": [],
     "prompt_number": 19
    },
    {
     "cell_type": "code",
     "collapsed": false,
     "input": [],
     "language": "python",
     "metadata": {},
     "outputs": [],
     "prompt_number": 19
    }
   ],
   "metadata": {}
  }
 ]
}